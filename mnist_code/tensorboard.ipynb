{
 "cells": [
  {
   "cell_type": "code",
   "execution_count": null,
   "id": "neutral-attention",
   "metadata": {},
   "outputs": [],
   "source": [
    "! ps -ef | grep apokkunu"
   ]
  },
  {
   "cell_type": "code",
   "execution_count": null,
   "id": "greenhouse-singles",
   "metadata": {},
   "outputs": [],
   "source": [
    "! kill -15 11486"
   ]
  },
  {
   "cell_type": "code",
   "execution_count": null,
   "id": "antique-potential",
   "metadata": {},
   "outputs": [],
   "source": [
    "! ps -ef | grep apokkunu"
   ]
  },
  {
   "cell_type": "code",
   "execution_count": null,
   "id": "seventh-white",
   "metadata": {},
   "outputs": [],
   "source": [
    "%load_ext tensorboard\n",
    "%tensorboard --logdir /users/apokkunu/trial/mnist/ebmout_1/logs/gradient_tape/ --host \"0.0.0.0\" --port 1236"
   ]
  }
 ],
 "metadata": {
  "kernelspec": {
   "display_name": "Python 3",
   "language": "python",
   "name": "python3"
  },
  "language_info": {
   "codemirror_mode": {
    "name": "ipython",
    "version": 3
   },
   "file_extension": ".py",
   "mimetype": "text/x-python",
   "name": "python",
   "nbconvert_exporter": "python",
   "pygments_lexer": "ipython3",
   "version": "3.7.7"
  }
 },
 "nbformat": 4,
 "nbformat_minor": 5
}
